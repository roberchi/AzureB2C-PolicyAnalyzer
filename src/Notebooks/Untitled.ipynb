{
 "cells": [
  {
   "cell_type": "code",
   "execution_count": 1,
   "metadata": {},
   "outputs": [
    {
     "data": {
      "text/html": [
       "<script type=\"text/javascript\">#!javascript\r\n",
       "if ((typeof(requirejs) !==  typeof(Function)) || (typeof(requirejs.config) !== typeof(Function))) { \r\n",
       "    let script = document.createElement(\"script\"); \r\n",
       "    script.setAttribute(\"src\", \"https://cdnjs.cloudflare.com/ajax/libs/require.js/2.3.6/require.min.js\"); \r\n",
       "    script.onload = function(){\r\n",
       "        loadDotnetInteractiveApi();\r\n",
       "    };\r\n",
       "    document.getElementsByTagName(\"head\")[0].appendChild(script); \r\n",
       "}\r\n",
       "else {\r\n",
       "    loadDotnetInteractiveApi();\r\n",
       "}\r\n",
       "\r\n",
       "function loadDotnetInteractiveApi(){\r\n",
       "    let apiRequire = requirejs.config({context:\"dotnet-interactive.19840.54172\",paths:{dotnetInteractive:\"http://localhost:54172/resources/dotnet-interactive\"}});\r\n",
       "    apiRequire(['dotnetInteractive'], \r\n",
       "    function(api) {       \r\n",
       "        api.createDotnetInteractiveClient(\"http://localhost:54172/\", window);\r\n",
       "    },\r\n",
       "    function(error){\r\n",
       "        console.log(error);\r\n",
       "    });\r\n",
       "}</script>"
      ]
     },
     "metadata": {},
     "output_type": "display_data"
    }
   ],
   "source": [
    "#r \"C:\\GitHub\\AzureB2CPolicyAnalyzer\\src\\AzureB2C.PolicyAnalyzer.Core\\bin\\Debug\\netcoreapp3.1\\AzureB2C.PolicyAnalyzer.Core.dll\""
   ]
  },
  {
   "cell_type": "code",
   "execution_count": 2,
   "metadata": {},
   "outputs": [
    {
     "data": {
      "text/markdown": [
       "`PolicyAnalyzerKernelExtension` is loaded. It adds visualizations for **policy models**`."
      ]
     },
     "metadata": {},
     "output_type": "display_data"
    }
   ],
   "source": [
    "#r \"C:\\GitHub\\AzureB2CPolicyAnalyzer\\src\\Azure B2C.PolicyAnalyzer.Jupyter.Extensions\\bin\\Debug\\netcoreapp3.1\\Azure B2C.PolicyAnalyzer.Jupyter.Extensions.dll\"\n",
    "using Microsoft.DotNet.Interactive;\n",
    "using Azure_B2C.PolicyAnalyzer.Jupyter.Extensions;\n",
    "var kernel = KernelInvocationContext.Current.HandlingKernel as KernelBase;\n",
    "new PolicyAnalyzerKernelExtension().OnLoadAsync(kernel).GetAwaiter().GetResult();\n",
    "    "
   ]
  },
  {
   "cell_type": "code",
   "execution_count": 3,
   "metadata": {},
   "outputs": [],
   "source": [
    "using AzureB2C.PolicyAnalyzer.Core.Models;"
   ]
  },
  {
   "cell_type": "code",
   "execution_count": null,
   "metadata": {},
   "outputs": [],
   "source": []
  },
  {
   "cell_type": "code",
   "execution_count": 4,
   "metadata": {},
   "outputs": [],
   "source": [
    "ObjectIndex index = new ObjectIndex();\n",
    "            string[] urls = new string[]\n",
    "            {\n",
    "                \"https://raw.githubusercontent.com/azure-ad-b2c/samples/master/policies/change-sign-in-name/policy/TrustFrameworkExtensions.xml\",\n",
    "                \"https://raw.githubusercontent.com/azure-ad-b2c/samples/master/policies/change-sign-in-name/policy/TrustFrameworkBase.xml\",\n",
    "                \"https://raw.githubusercontent.com/azure-ad-b2c/samples/master/policies/change-sign-in-name/policy/SignUpOrSignin.xml\",\n",
    "                \"https://raw.githubusercontent.com/azure-ad-b2c/samples/master/policies/change-sign-in-name/policy/ChangeSignInName.xml\"\n",
    "            };\n",
    "            var policies = await PolicyLoader.LoadFromUrls(index, urls);"
   ]
  },
  {
   "cell_type": "code",
   "execution_count": 5,
   "metadata": {
    "scrolled": true
   },
   "outputs": [
    {
     "data": {
      "text/plain": [
       "B2C_1A_ChangeSignInName"
      ]
     },
     "metadata": {},
     "output_type": "display_data"
    }
   ],
   "source": [
    "display(policies[3].Id)"
   ]
  },
  {
   "cell_type": "code",
   "execution_count": 16,
   "metadata": {
    "scrolled": false
   },
   "outputs": [
    {
     "data": {
      "text/html": [
       "<div id=\"B2C_1A_ChangeSignInName_signup_signin\"><table><thead><tr><th>Property</th><th>Value</th></tr></thead><tbody><tr><tr><td>BasePolicy</td><td><span>B2C_1A_ChangeSignInName_TrustFrameworkExtensions</span></td></tr><tr><td>Id</td><td><span>B2C_1A_ChangeSignInName_signup_signin</span></td></tr><tr><td>PolicyId</td><td><span>B2C_1A_ChangeSignInName_signup_signin</span></td></tr><tr><td>PublicPolicyUri</td><td><span>http://yourtenant.onmicrosoft.com/B2C_1A_ChangeSignInName_signup_signin</span></td></tr><tr><td>RelyingParty</td><td><div ><table><tbody><tr><tr><td>DefaultUserJourney</td><td><span>SignUpOrSignIn</span></td></tr></tr></tbody></table></div></td></tr><tr><td>SourceFile</td><td><span>https://raw.githubusercontent.com/azure-ad-b2c/samples/master/policies/change-sign-in-name/policy/SignUpOrSignin.xml</span></td></tr><tr><td>TenantId</td><td><span>yourtenant.onmicrosoft.com</span></td></tr></tr></tbody></table></div>"
      ]
     },
     "metadata": {},
     "output_type": "display_data"
    }
   ],
   "source": [
    "display(policies[2])\n",
    "    "
   ]
  },
  {
   "cell_type": "code",
   "execution_count": null,
   "metadata": {},
   "outputs": [],
   "source": []
  },
  {
   "cell_type": "code",
   "execution_count": null,
   "metadata": {},
   "outputs": [],
   "source": []
  }
 ],
 "metadata": {
  "kernelspec": {
   "display_name": ".NET (C#)",
   "language": "C#",
   "name": ".net-csharp"
  },
  "language_info": {
   "file_extension": ".cs",
   "mimetype": "text/x-csharp",
   "name": "C#",
   "pygments_lexer": "csharp",
   "version": "8.0"
  }
 },
 "nbformat": 4,
 "nbformat_minor": 4
}
