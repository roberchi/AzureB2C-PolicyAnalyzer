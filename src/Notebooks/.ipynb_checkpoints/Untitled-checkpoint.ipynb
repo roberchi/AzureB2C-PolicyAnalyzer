{
 "cells": [
  {
   "cell_type": "code",
   "execution_count": 1,
   "metadata": {},
   "outputs": [
    {
     "data": {
      "text/html": [
       "<script type=\"text/javascript\">#!javascript\r\n",
       "if ((typeof(requirejs) !==  typeof(Function)) || (typeof(requirejs.config) !== typeof(Function))) { \r\n",
       "    let script = document.createElement(\"script\"); \r\n",
       "    script.setAttribute(\"src\", \"https://cdnjs.cloudflare.com/ajax/libs/require.js/2.3.6/require.min.js\"); \r\n",
       "    script.onload = function(){\r\n",
       "        loadDotnetInteractiveApi();\r\n",
       "    };\r\n",
       "    document.getElementsByTagName(\"head\")[0].appendChild(script); \r\n",
       "}\r\n",
       "else {\r\n",
       "    loadDotnetInteractiveApi();\r\n",
       "}\r\n",
       "\r\n",
       "function loadDotnetInteractiveApi(){\r\n",
       "    let apiRequire = requirejs.config({context:\"dotnet-interactive.5888.57153\",paths:{dotnetInteractive:\"http://localhost:57153/resources/dotnet-interactive\"}});\r\n",
       "    apiRequire(['dotnetInteractive'], \r\n",
       "    function(api) {       \r\n",
       "        api.createDotnetInteractiveClient(\"http://localhost:57153/\", window);\r\n",
       "    },\r\n",
       "    function(error){\r\n",
       "        console.log(error);\r\n",
       "    });\r\n",
       "}</script>"
      ]
     },
     "metadata": {},
     "output_type": "display_data"
    }
   ],
   "source": [
    "#r \"C:\\Users\\roberto.chinelli\\source\\repos\\AzureB2CPolicyAnalyzer\\AzureB2C.PolicyAnalyzer.Core\\bin\\Debug\\netcoreapp3.1\\AzureB2C.PolicyAnalyzer.Core.dll\""
   ]
  },
  {
   "cell_type": "code",
   "execution_count": 3,
   "metadata": {},
   "outputs": [],
   "source": [
    "using AzureB2C.PolicyAnalyzer.Core.Models;"
   ]
  },
  {
   "cell_type": "code",
   "execution_count": 10,
   "metadata": {},
   "outputs": [],
   "source": [
    "Formatter<object>.Register((reference, writer) => {\n",
    "    writer.Write(reference.ToString());\n",
    "}, mimeType: \"text/plain\");"
   ]
  },
  {
   "cell_type": "code",
   "execution_count": 5,
   "metadata": {},
   "outputs": [],
   "source": [
    "ObjectIndex index = new ObjectIndex();\n",
    "            string[] urls = new string[]\n",
    "            {\n",
    "                \"https://raw.githubusercontent.com/azure-ad-b2c/samples/master/policies/change-sign-in-name/policy/TrustFrameworkExtensions.xml\",\n",
    "                \"https://raw.githubusercontent.com/azure-ad-b2c/samples/master/policies/change-sign-in-name/policy/TrustFrameworkBase.xml\",\n",
    "                \"https://raw.githubusercontent.com/azure-ad-b2c/samples/master/policies/change-sign-in-name/policy/SignUpOrSignin.xml\",\n",
    "                \"https://raw.githubusercontent.com/azure-ad-b2c/samples/master/policies/change-sign-in-name/policy/ChangeSignInName.xml\"\n",
    "            };\n",
    "            var policies = await PolicyLoader.LoadFromUrls(index, urls);"
   ]
  },
  {
   "cell_type": "code",
   "execution_count": 11,
   "metadata": {},
   "outputs": [
    {
     "data": {
      "text/html": [
       "<table><thead><tr><th>DefaultUserJourney</th><th>Policy</th><th>Container</th><th>SourceFile</th><th>Id</th></tr></thead><tbody><tr><td>ChangeSignInName</td><td>{ AzureB2C.PolicyAnalyzer.Core.Models.Policy: PolicyId: B2C_1A_ChangeSignInName, PublicPolicyUri: http://yourtenant.onmicrosoft.com/B2C_1A_ChangeSignInName, TenantId: yourtenant.onmicrosoft.com, BasePolicy: { AzureB2C.PolicyAnalyzer.Core.Models.Reference&lt;AzureB2C.PolicyAnalyzer.Core.Models.Policy&gt;: Id: B2C_1A_ChangeSignInName_TrustFrameworkExtensions }, RelyingParty: { AzureB2C.PolicyAnalyzer.Core.Models.RelyingParty: DefaultUserJourney: ChangeSignInName, Policy: { AzureB2C.PolicyAnalyzer.Core.Models.Policy: PolicyId: B2C_1A_ChangeSignInName, PublicPolicyUri: http://yourtenant.onmicrosoft.com/B2C_1A_ChangeSignInName, TenantId: yourtenant.onmicrosoft.com, BasePolicy: { AzureB2C.PolicyAnalyzer.Core.Models.Reference&lt;AzureB2C.PolicyAnalyzer.Core.Models.Policy&gt;: Id: B2C_1A_ChangeSignInName_TrustFrameworkExtensions }, RelyingParty: { AzureB2C.PolicyAnalyzer.Core.Models.RelyingParty: DefaultUserJourney: ChangeSignInName, Policy: { AzureB2C.PolicyAnalyzer.Core.Models.Policy: PolicyId: B2C_1A_ChangeSignInName, PublicPolicyUri: http://yourtenant.onmicrosoft.com/B2C_1A_ChangeSignInName, TenantId: yourtenant.onmicrosoft.com, BasePolicy: B2C_1A_ChangeSignInName_TrustFrameworkExtensions, RelyingParty: AzureB2C.PolicyAnalyzer.Core.Models.RelyingParty, UserJourneys: [  ], ClaimsProviders: [  ], BuildingBlocks: &lt;null&gt;, Container: &lt;null&gt;, SourceFile: https://raw.githubusercontent.com/azure-ad-b2c/samples/master/policies/change-sign-in-name/policy/ChangeSignInName.xml, Id: B2C_1A_ChangeSignInName }, Container: { AzureB2C.PolicyAnalyzer.Core.Models.Policy: PolicyId: B2C_1A_ChangeSignInName, PublicPolicyUri: http://yourtenant.onmicrosoft.com/B2C_1A_ChangeSignInName, TenantId: yourtenant.onmicrosoft.com, BasePolicy: B2C_1A_ChangeSignInName_TrustFrameworkExtensions, RelyingParty: AzureB2C.PolicyAnalyzer.Core.Models.RelyingParty, UserJourneys: [  ], ClaimsProviders: [  ], BuildingBlocks: &lt;null&gt;, Container: &lt;null&gt;, SourceFile: https://raw.githubusercontent.com/azure-ad-b2c/samples/master/policies/change-sign-in-name/policy/ChangeSignInName.xml, Id: B2C_1A_ChangeSignInName }, SourceFile: https://raw.githubusercontent.com/azure-ad-b2c/samples/master/policies/change-sign-in-name/policy/ChangeSignInName.xml, Id: B2C_1A_ChangeSignInName_RelyingParty }, UserJourneys: [  ], ClaimsProviders: [  ], BuildingBlocks: &lt;null&gt;, Container: &lt;null&gt;, SourceFile: https://raw.githubusercontent.com/azure-ad-b2c/samples/master/policies/change-sign-in-name/policy/ChangeSignInName.xml, Id: B2C_1A_ChangeSignInName }, Container: { AzureB2C.PolicyAnalyzer.Core.Models.Policy: PolicyId: B2C_1A_ChangeSignInName, PublicPolicyUri: http://yourtenant.onmicrosoft.com/B2C_1A_ChangeSignInName, TenantId: yourtenant.onmicrosoft.com, BasePolicy: { AzureB2C.PolicyAnalyzer.Core.Models.Reference&lt;AzureB2C.PolicyAnalyzer.Core.Models.Policy&gt;: Id: B2C_1A_ChangeSignInName_TrustFrameworkExtensions }, RelyingParty: { AzureB2C.PolicyAnalyzer.Core.Models.RelyingParty: DefaultUserJourney: ChangeSignInName, Policy: { AzureB2C.PolicyAnalyzer.Core.Models.Policy: PolicyId: B2C_1A_ChangeSignInName, PublicPolicyUri: http://yourtenant.onmicrosoft.com/B2C_1A_ChangeSignInName, TenantId: yourtenant.onmicrosoft.com, BasePolicy: B2C_1A_ChangeSignInName_TrustFrameworkExtensions, RelyingParty: AzureB2C.PolicyAnalyzer.Core.Models.RelyingParty, UserJourneys: [  ], ClaimsProviders: [  ], BuildingBlocks: &lt;null&gt;, Container: &lt;null&gt;, SourceFile: https://raw.githubusercontent.com/azure-ad-b2c/samples/master/policies/change-sign-in-name/policy/ChangeSignInName.xml, Id: B2C_1A_ChangeSignInName }, Container: { AzureB2C.PolicyAnalyzer.Core.Models.Policy: PolicyId: B2C_1A_ChangeSignInName, PublicPolicyUri: http://yourtenant.onmicrosoft.com/B2C_1A_ChangeSignInName, TenantId: yourtenant.onmicrosoft.com, BasePolicy: B2C_1A_ChangeSignInName_TrustFrameworkExtensions, RelyingParty: AzureB2C.PolicyAnalyzer.Core.Models.RelyingParty, UserJourneys: [  ], ClaimsProviders: [  ], BuildingBlocks: &lt;null&gt;, Container: &lt;null&gt;, SourceFile: https://raw.githubusercontent.com/azure-ad-b2c/samples/master/policies/change-sign-in-name/policy/ChangeSignInName.xml, Id: B2C_1A_ChangeSignInName }, SourceFile: https://raw.githubusercontent.com/azure-ad-b2c/samples/master/policies/change-sign-in-name/policy/ChangeSignInName.xml, Id: B2C_1A_ChangeSignInName_RelyingParty }, UserJourneys: [  ], ClaimsProviders: [  ], BuildingBlocks: &lt;null&gt;, Container: &lt;null&gt;, SourceFile: https://raw.githubusercontent.com/azure-ad-b2c/samples/master/policies/change-sign-in-name/policy/ChangeSignInName.xml, Id: B2C_1A_ChangeSignInName }, SourceFile: https://raw.githubusercontent.com/azure-ad-b2c/samples/master/policies/change-sign-in-name/policy/ChangeSignInName.xml, Id: B2C_1A_ChangeSignInName_RelyingParty }, UserJourneys: [  ], ClaimsProviders: [  ], BuildingBlocks: &lt;null&gt;, Container: &lt;null&gt;, SourceFile: https://raw.githubusercontent.com/azure-ad-b2c/samples/master/policies/change-sign-in-name/policy/ChangeSignInName.xml, Id: B2C_1A_ChangeSignInName }</td><td>{ AzureB2C.PolicyAnalyzer.Core.Models.Policy: PolicyId: B2C_1A_ChangeSignInName, PublicPolicyUri: http://yourtenant.onmicrosoft.com/B2C_1A_ChangeSignInName, TenantId: yourtenant.onmicrosoft.com, BasePolicy: { AzureB2C.PolicyAnalyzer.Core.Models.Reference&lt;AzureB2C.PolicyAnalyzer.Core.Models.Policy&gt;: Id: B2C_1A_ChangeSignInName_TrustFrameworkExtensions }, RelyingParty: { AzureB2C.PolicyAnalyzer.Core.Models.RelyingParty: DefaultUserJourney: ChangeSignInName, Policy: { AzureB2C.PolicyAnalyzer.Core.Models.Policy: PolicyId: B2C_1A_ChangeSignInName, PublicPolicyUri: http://yourtenant.onmicrosoft.com/B2C_1A_ChangeSignInName, TenantId: yourtenant.onmicrosoft.com, BasePolicy: { AzureB2C.PolicyAnalyzer.Core.Models.Reference&lt;AzureB2C.PolicyAnalyzer.Core.Models.Policy&gt;: Id: B2C_1A_ChangeSignInName_TrustFrameworkExtensions }, RelyingParty: { AzureB2C.PolicyAnalyzer.Core.Models.RelyingParty: DefaultUserJourney: ChangeSignInName, Policy: { AzureB2C.PolicyAnalyzer.Core.Models.Policy: PolicyId: B2C_1A_ChangeSignInName, PublicPolicyUri: http://yourtenant.onmicrosoft.com/B2C_1A_ChangeSignInName, TenantId: yourtenant.onmicrosoft.com, BasePolicy: B2C_1A_ChangeSignInName_TrustFrameworkExtensions, RelyingParty: AzureB2C.PolicyAnalyzer.Core.Models.RelyingParty, UserJourneys: [  ], ClaimsProviders: [  ], BuildingBlocks: &lt;null&gt;, Container: &lt;null&gt;, SourceFile: https://raw.githubusercontent.com/azure-ad-b2c/samples/master/policies/change-sign-in-name/policy/ChangeSignInName.xml, Id: B2C_1A_ChangeSignInName }, Container: { AzureB2C.PolicyAnalyzer.Core.Models.Policy: PolicyId: B2C_1A_ChangeSignInName, PublicPolicyUri: http://yourtenant.onmicrosoft.com/B2C_1A_ChangeSignInName, TenantId: yourtenant.onmicrosoft.com, BasePolicy: B2C_1A_ChangeSignInName_TrustFrameworkExtensions, RelyingParty: AzureB2C.PolicyAnalyzer.Core.Models.RelyingParty, UserJourneys: [  ], ClaimsProviders: [  ], BuildingBlocks: &lt;null&gt;, Container: &lt;null&gt;, SourceFile: https://raw.githubusercontent.com/azure-ad-b2c/samples/master/policies/change-sign-in-name/policy/ChangeSignInName.xml, Id: B2C_1A_ChangeSignInName }, SourceFile: https://raw.githubusercontent.com/azure-ad-b2c/samples/master/policies/change-sign-in-name/policy/ChangeSignInName.xml, Id: B2C_1A_ChangeSignInName_RelyingParty }, UserJourneys: [  ], ClaimsProviders: [  ], BuildingBlocks: &lt;null&gt;, Container: &lt;null&gt;, SourceFile: https://raw.githubusercontent.com/azure-ad-b2c/samples/master/policies/change-sign-in-name/policy/ChangeSignInName.xml, Id: B2C_1A_ChangeSignInName }, Container: { AzureB2C.PolicyAnalyzer.Core.Models.Policy: PolicyId: B2C_1A_ChangeSignInName, PublicPolicyUri: http://yourtenant.onmicrosoft.com/B2C_1A_ChangeSignInName, TenantId: yourtenant.onmicrosoft.com, BasePolicy: { AzureB2C.PolicyAnalyzer.Core.Models.Reference&lt;AzureB2C.PolicyAnalyzer.Core.Models.Policy&gt;: Id: B2C_1A_ChangeSignInName_TrustFrameworkExtensions }, RelyingParty: { AzureB2C.PolicyAnalyzer.Core.Models.RelyingParty: DefaultUserJourney: ChangeSignInName, Policy: { AzureB2C.PolicyAnalyzer.Core.Models.Policy: PolicyId: B2C_1A_ChangeSignInName, PublicPolicyUri: http://yourtenant.onmicrosoft.com/B2C_1A_ChangeSignInName, TenantId: yourtenant.onmicrosoft.com, BasePolicy: B2C_1A_ChangeSignInName_TrustFrameworkExtensions, RelyingParty: AzureB2C.PolicyAnalyzer.Core.Models.RelyingParty, UserJourneys: [  ], ClaimsProviders: [  ], BuildingBlocks: &lt;null&gt;, Container: &lt;null&gt;, SourceFile: https://raw.githubusercontent.com/azure-ad-b2c/samples/master/policies/change-sign-in-name/policy/ChangeSignInName.xml, Id: B2C_1A_ChangeSignInName }, Container: { AzureB2C.PolicyAnalyzer.Core.Models.Policy: PolicyId: B2C_1A_ChangeSignInName, PublicPolicyUri: http://yourtenant.onmicrosoft.com/B2C_1A_ChangeSignInName, TenantId: yourtenant.onmicrosoft.com, BasePolicy: B2C_1A_ChangeSignInName_TrustFrameworkExtensions, RelyingParty: AzureB2C.PolicyAnalyzer.Core.Models.RelyingParty, UserJourneys: [  ], ClaimsProviders: [  ], BuildingBlocks: &lt;null&gt;, Container: &lt;null&gt;, SourceFile: https://raw.githubusercontent.com/azure-ad-b2c/samples/master/policies/change-sign-in-name/policy/ChangeSignInName.xml, Id: B2C_1A_ChangeSignInName }, SourceFile: https://raw.githubusercontent.com/azure-ad-b2c/samples/master/policies/change-sign-in-name/policy/ChangeSignInName.xml, Id: B2C_1A_ChangeSignInName_RelyingParty }, UserJourneys: [  ], ClaimsProviders: [  ], BuildingBlocks: &lt;null&gt;, Container: &lt;null&gt;, SourceFile: https://raw.githubusercontent.com/azure-ad-b2c/samples/master/policies/change-sign-in-name/policy/ChangeSignInName.xml, Id: B2C_1A_ChangeSignInName }, SourceFile: https://raw.githubusercontent.com/azure-ad-b2c/samples/master/policies/change-sign-in-name/policy/ChangeSignInName.xml, Id: B2C_1A_ChangeSignInName_RelyingParty }, UserJourneys: [  ], ClaimsProviders: [  ], BuildingBlocks: &lt;null&gt;, Container: &lt;null&gt;, SourceFile: https://raw.githubusercontent.com/azure-ad-b2c/samples/master/policies/change-sign-in-name/policy/ChangeSignInName.xml, Id: B2C_1A_ChangeSignInName }</td><td>https://raw.githubusercontent.com/azure-ad-b2c/samples/master/policies/change-sign-in-name/policy/ChangeSignInName.xml</td><td>B2C_1A_ChangeSignInName_RelyingParty</td></tr></tbody></table>"
      ]
     },
     "metadata": {},
     "output_type": "display_data"
    }
   ],
   "source": [
    "display(policies[3].RelyingParty)"
   ]
  },
  {
   "cell_type": "code",
   "execution_count": 7,
   "metadata": {},
   "outputs": [
    {
     "data": {
      "text/html": [
       "<table><thead><tr><th>PolicyId</th><th>PublicPolicyUri</th><th>TenantId</th><th>BasePolicy</th><th>RelyingParty</th><th>UserJourneys</th><th>ClaimsProviders</th><th>BuildingBlocks</th><th>Container</th><th>SourceFile</th><th>Id</th></tr></thead><tbody><tr><td>B2C_1A_ChangeSignInName</td><td>http://yourtenant.onmicrosoft.com/B2C_1A_ChangeSignInName</td><td>yourtenant.onmicrosoft.com</td><td>{ AzureB2C.PolicyAnalyzer.Core.Models.Reference&lt;AzureB2C.PolicyAnalyzer.Core.Models.Policy&gt;: Id: B2C_1A_ChangeSignInName_TrustFrameworkExtensions }</td><td>{ AzureB2C.PolicyAnalyzer.Core.Models.RelyingParty: DefaultUserJourney: { AzureB2C.PolicyAnalyzer.Core.Models.Reference&lt;AzureB2C.PolicyAnalyzer.Core.Models.UserJourney&gt;: Id: ChangeSignInName }, Policy: { AzureB2C.PolicyAnalyzer.Core.Models.Policy: PolicyId: B2C_1A_ChangeSignInName, PublicPolicyUri: http://yourtenant.onmicrosoft.com/B2C_1A_ChangeSignInName, TenantId: yourtenant.onmicrosoft.com, BasePolicy: { AzureB2C.PolicyAnalyzer.Core.Models.Reference&lt;AzureB2C.PolicyAnalyzer.Core.Models.Policy&gt;: Id: B2C_1A_ChangeSignInName_TrustFrameworkExtensions }, RelyingParty: { AzureB2C.PolicyAnalyzer.Core.Models.RelyingParty: DefaultUserJourney: { AzureB2C.PolicyAnalyzer.Core.Models.Reference&lt;AzureB2C.PolicyAnalyzer.Core.Models.UserJourney&gt;: Id: ChangeSignInName }, Policy: { AzureB2C.PolicyAnalyzer.Core.Models.Policy: PolicyId: B2C_1A_ChangeSignInName, PublicPolicyUri: http://yourtenant.onmicrosoft.com/B2C_1A_ChangeSignInName, TenantId: yourtenant.onmicrosoft.com, BasePolicy: { AzureB2C.PolicyAnalyzer.Core.Models.Reference`1[AzureB2C.PolicyAnalyzer.Core.Models.Policy]: Id: B2C_1A_ChangeSignInName_TrustFrameworkExtensions }, RelyingParty: { AzureB2C.PolicyAnalyzer.Core.Models.RelyingParty: DefaultUserJourney: ChangeSignInName, Policy: AzureB2C.PolicyAnalyzer.Core.Models.Policy, Container: AzureB2C.PolicyAnalyzer.Core.Models.Policy, SourceFile: https://raw.githubusercontent.com/azure-ad-b2c/samples/master/policies/change-sign-in-name/policy/ChangeSignInName.xml, Id: B2C_1A_ChangeSignInName_RelyingParty }, UserJourneys: [  ], ClaimsProviders: [  ], BuildingBlocks: &lt;null&gt;, Container: &lt;null&gt;, SourceFile: https://raw.githubusercontent.com/azure-ad-b2c/samples/master/policies/change-sign-in-name/policy/ChangeSignInName.xml, Id: B2C_1A_ChangeSignInName }, Container: { AzureB2C.PolicyAnalyzer.Core.Models.Policy: PolicyId: B2C_1A_ChangeSignInName, PublicPolicyUri: http://yourtenant.onmicrosoft.com/B2C_1A_ChangeSignInName, TenantId: yourtenant.onmicrosoft.com, BasePolicy: { AzureB2C.PolicyAnalyzer.Core.Models.Reference`1[AzureB2C.PolicyAnalyzer.Core.Models.Policy]: Id: B2C_1A_ChangeSignInName_TrustFrameworkExtensions }, RelyingParty: { AzureB2C.PolicyAnalyzer.Core.Models.RelyingParty: DefaultUserJourney: ChangeSignInName, Policy: AzureB2C.PolicyAnalyzer.Core.Models.Policy, Container: AzureB2C.PolicyAnalyzer.Core.Models.Policy, SourceFile: https://raw.githubusercontent.com/azure-ad-b2c/samples/master/policies/change-sign-in-name/policy/ChangeSignInName.xml, Id: B2C_1A_ChangeSignInName_RelyingParty }, UserJourneys: [  ], ClaimsProviders: [  ], BuildingBlocks: &lt;null&gt;, Container: &lt;null&gt;, SourceFile: https://raw.githubusercontent.com/azure-ad-b2c/samples/master/policies/change-sign-in-name/policy/ChangeSignInName.xml, Id: B2C_1A_ChangeSignInName }, SourceFile: https://raw.githubusercontent.com/azure-ad-b2c/samples/master/policies/change-sign-in-name/policy/ChangeSignInName.xml, Id: B2C_1A_ChangeSignInName_RelyingParty }, UserJourneys: [  ], ClaimsProviders: [  ], BuildingBlocks: &lt;null&gt;, Container: &lt;null&gt;, SourceFile: https://raw.githubusercontent.com/azure-ad-b2c/samples/master/policies/change-sign-in-name/policy/ChangeSignInName.xml, Id: B2C_1A_ChangeSignInName }, Container: { AzureB2C.PolicyAnalyzer.Core.Models.Policy: PolicyId: B2C_1A_ChangeSignInName, PublicPolicyUri: http://yourtenant.onmicrosoft.com/B2C_1A_ChangeSignInName, TenantId: yourtenant.onmicrosoft.com, BasePolicy: { AzureB2C.PolicyAnalyzer.Core.Models.Reference&lt;AzureB2C.PolicyAnalyzer.Core.Models.Policy&gt;: Id: B2C_1A_ChangeSignInName_TrustFrameworkExtensions }, RelyingParty: { AzureB2C.PolicyAnalyzer.Core.Models.RelyingParty: DefaultUserJourney: { AzureB2C.PolicyAnalyzer.Core.Models.Reference&lt;AzureB2C.PolicyAnalyzer.Core.Models.UserJourney&gt;: Id: ChangeSignInName }, Policy: { AzureB2C.PolicyAnalyzer.Core.Models.Policy: PolicyId: B2C_1A_ChangeSignInName, PublicPolicyUri: http://yourtenant.onmicrosoft.com/B2C_1A_ChangeSignInName, TenantId: yourtenant.onmicrosoft.com, BasePolicy: { AzureB2C.PolicyAnalyzer.Core.Models.Reference`1[AzureB2C.PolicyAnalyzer.Core.Models.Policy]: Id: B2C_1A_ChangeSignInName_TrustFrameworkExtensions }, RelyingParty: { AzureB2C.PolicyAnalyzer.Core.Models.RelyingParty: DefaultUserJourney: ChangeSignInName, Policy: AzureB2C.PolicyAnalyzer.Core.Models.Policy, Container: AzureB2C.PolicyAnalyzer.Core.Models.Policy, SourceFile: https://raw.githubusercontent.com/azure-ad-b2c/samples/master/policies/change-sign-in-name/policy/ChangeSignInName.xml, Id: B2C_1A_ChangeSignInName_RelyingParty }, UserJourneys: [  ], ClaimsProviders: [  ], BuildingBlocks: &lt;null&gt;, Container: &lt;null&gt;, SourceFile: https://raw.githubusercontent.com/azure-ad-b2c/samples/master/policies/change-sign-in-name/policy/ChangeSignInName.xml, Id: B2C_1A_ChangeSignInName }, Container: { AzureB2C.PolicyAnalyzer.Core.Models.Policy: PolicyId: B2C_1A_ChangeSignInName, PublicPolicyUri: http://yourtenant.onmicrosoft.com/B2C_1A_ChangeSignInName, TenantId: yourtenant.onmicrosoft.com, BasePolicy: { AzureB2C.PolicyAnalyzer.Core.Models.Reference`1[AzureB2C.PolicyAnalyzer.Core.Models.Policy]: Id: B2C_1A_ChangeSignInName_TrustFrameworkExtensions }, RelyingParty: { AzureB2C.PolicyAnalyzer.Core.Models.RelyingParty: DefaultUserJourney: ChangeSignInName, Policy: AzureB2C.PolicyAnalyzer.Core.Models.Policy, Container: AzureB2C.PolicyAnalyzer.Core.Models.Policy, SourceFile: https://raw.githubusercontent.com/azure-ad-b2c/samples/master/policies/change-sign-in-name/policy/ChangeSignInName.xml, Id: B2C_1A_ChangeSignInName_RelyingParty }, UserJourneys: [  ], ClaimsProviders: [  ], BuildingBlocks: &lt;null&gt;, Container: &lt;null&gt;, SourceFile: https://raw.githubusercontent.com/azure-ad-b2c/samples/master/policies/change-sign-in-name/policy/ChangeSignInName.xml, Id: B2C_1A_ChangeSignInName }, SourceFile: https://raw.githubusercontent.com/azure-ad-b2c/samples/master/policies/change-sign-in-name/policy/ChangeSignInName.xml, Id: B2C_1A_ChangeSignInName_RelyingParty }, UserJourneys: [  ], ClaimsProviders: [  ], BuildingBlocks: &lt;null&gt;, Container: &lt;null&gt;, SourceFile: https://raw.githubusercontent.com/azure-ad-b2c/samples/master/policies/change-sign-in-name/policy/ChangeSignInName.xml, Id: B2C_1A_ChangeSignInName }, SourceFile: https://raw.githubusercontent.com/azure-ad-b2c/samples/master/policies/change-sign-in-name/policy/ChangeSignInName.xml, Id: B2C_1A_ChangeSignInName_RelyingParty }</td><td>[  ]</td><td>[  ]</td><td>&lt;null&gt;</td><td>&lt;null&gt;</td><td>https://raw.githubusercontent.com/azure-ad-b2c/samples/master/policies/change-sign-in-name/policy/ChangeSignInName.xml</td><td>B2C_1A_ChangeSignInName</td></tr></tbody></table>"
      ]
     },
     "metadata": {},
     "output_type": "display_data"
    }
   ],
   "source": [
    "display(policies[3]);"
   ]
  },
  {
   "cell_type": "code",
   "execution_count": 12,
   "metadata": {},
   "outputs": [
    {
     "data": {
      "text/plain": [
       "[ apple, orange, coconut, pear, peach ]"
      ]
     },
     "metadata": {},
     "output_type": "display_data"
    }
   ],
   "source": [
    "var fruitOutput = display(\"Let's get some fruit!\");\n",
    "var basket = new [] {\"apple\", \"orange\", \"coconut\", \"pear\", \"peach\"};\n",
    "\n",
    "foreach (var fruit in basket)\n",
    "{\n",
    "    System.Threading.Thread.Sleep(1000);\n",
    "    fruitOutput.Update($\"I have 1 {fruit}.\");    \n",
    "}\n",
    "\n",
    "System.Threading.Thread.Sleep(1000);\n",
    "\n",
    "fruitOutput.Update(basket);"
   ]
  },
  {
   "cell_type": "code",
   "execution_count": null,
   "metadata": {},
   "outputs": [],
   "source": []
  }
 ],
 "metadata": {
  "kernelspec": {
   "display_name": ".NET (C#)",
   "language": "C#",
   "name": ".net-csharp"
  },
  "language_info": {
   "file_extension": ".cs",
   "mimetype": "text/x-csharp",
   "name": "C#",
   "pygments_lexer": "csharp",
   "version": "8.0"
  }
 },
 "nbformat": 4,
 "nbformat_minor": 4
}
